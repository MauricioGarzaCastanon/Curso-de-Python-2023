{
  "nbformat": 4,
  "nbformat_minor": 0,
  "metadata": {
    "colab": {
      "provenance": [],
      "authorship_tag": "ABX9TyPvKCgOVVV/b/Btkm/xK8cz",
      "include_colab_link": true
    },
    "kernelspec": {
      "name": "python3",
      "display_name": "Python 3"
    },
    "language_info": {
      "name": "python"
    }
  },
  "cells": [
    {
      "cell_type": "markdown",
      "metadata": {
        "id": "view-in-github",
        "colab_type": "text"
      },
      "source": [
        "<a href=\"https://colab.research.google.com/github/MauricioGarzaCastanon/Curso-de-Python-2023/blob/main/Funciones_de_area.ipynb\" target=\"_parent\"><img src=\"https://colab.research.google.com/assets/colab-badge.svg\" alt=\"Open In Colab\"/></a>"
      ]
    },
    {
      "cell_type": "code",
      "execution_count": null,
      "metadata": {
        "id": "C07722ZZ1Ve_"
      },
      "outputs": [],
      "source": []
    },
    {
      "cell_type": "markdown",
      "source": [
        "Ejercicio: Calcular el área de un rectángulo"
      ],
      "metadata": {
        "id": "PwyhJVoO1XUB"
      }
    },
    {
      "cell_type": "code",
      "source": [
        "def area_rectangulo(base,altura) :\n",
        "  base=float(input(\"ingrese el valor de la base\"))\n",
        "  altura=float(input(\"ingrese el valor de la altura\"))\n",
        "  area=base*altura\n",
        "  print(\"el area del rectángulo es:\", area)\n"
      ],
      "metadata": {
        "id": "KMvdUPan1cxd"
      },
      "execution_count": 2,
      "outputs": []
    },
    {
      "cell_type": "code",
      "source": [
        "def area_circulo(radio) :\n",
        "  pi=3.141592\n",
        "  radio=float(input(\"ingrese el valor del radio\"))\n",
        "  area=pi*radio**2\n",
        "  print(\"el area del circulo es:\", area)"
      ],
      "metadata": {
        "id": "7MN98_Ka24FR"
      },
      "execution_count": 3,
      "outputs": []
    },
    {
      "cell_type": "code",
      "source": [
        "area_rectangulo(any, any)"
      ],
      "metadata": {
        "colab": {
          "base_uri": "https://localhost:8080/"
        },
        "id": "I8HAMCaP3aDs",
        "outputId": "0d8fd7ca-e237-4bb4-efb7-6565784aa4c2"
      },
      "execution_count": 5,
      "outputs": [
        {
          "output_type": "stream",
          "name": "stdout",
          "text": [
            "ingrese el valor de la base2\n",
            "ingrese el valor de la altura3\n",
            "el area del rectángulo es: 6.0\n"
          ]
        }
      ]
    },
    {
      "cell_type": "code",
      "source": [
        "area_circulo(any)"
      ],
      "metadata": {
        "colab": {
          "base_uri": "https://localhost:8080/"
        },
        "id": "YXJdzLVw3i4P",
        "outputId": "5d591d0d-aa8f-480b-b776-f36c44ccb1b5"
      },
      "execution_count": 7,
      "outputs": [
        {
          "output_type": "stream",
          "name": "stdout",
          "text": [
            "ingrese el valor del radio4\n",
            "el area del circulo es: 50.265472\n"
          ]
        }
      ]
    },
    {
      "cell_type": "code",
      "source": [],
      "metadata": {
        "id": "j_PFCS9i3vuX"
      },
      "execution_count": null,
      "outputs": []
    }
  ]
}