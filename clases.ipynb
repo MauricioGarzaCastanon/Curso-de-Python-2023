{
  "nbformat": 4,
  "nbformat_minor": 0,
  "metadata": {
    "colab": {
      "provenance": [],
      "authorship_tag": "ABX9TyNqSWGpWteOSXHztAWQKm/v",
      "include_colab_link": true
    },
    "kernelspec": {
      "name": "python3",
      "display_name": "Python 3"
    },
    "language_info": {
      "name": "python"
    }
  },
  "cells": [
    {
      "cell_type": "markdown",
      "metadata": {
        "id": "view-in-github",
        "colab_type": "text"
      },
      "source": [
        "<a href=\"https://colab.research.google.com/github/MauricioGarzaCastanon/Curso-de-Python-2023/blob/main/clases.ipynb\" target=\"_parent\"><img src=\"https://colab.research.google.com/assets/colab-badge.svg\" alt=\"Open In Colab\"/></a>"
      ]
    },
    {
      "cell_type": "markdown",
      "source": [
        "Clase Libro"
      ],
      "metadata": {
        "id": "gOUp-gMM9ESh"
      }
    },
    {
      "cell_type": "markdown",
      "source": [
        "Clase galleta"
      ],
      "metadata": {
        "id": "RoyBWgTxG2DR"
      }
    },
    {
      "cell_type": "code",
      "source": [
        "class galleta:\n",
        "  def __init__(self, sabor, diametro, chispas):\n",
        "    # Creando atributos de clase\n",
        "    self.sabor = str(input(\"qué sabor es? \"))\n",
        "    self.diametro = float(input(\"¿cuál es el diámetro de la galleta? \"))\n",
        "    self.chispas=str(input(\"tiene chispas? \"))\n",
        "    if self.chispas==\"si\":\n",
        "      peso= (self.diametro*11)/4.4 + 2\n",
        "    else:\n",
        "      peso= (self.diametro*11)/4.4\n",
        "    print(\"el peso de la galleta es: \", peso, \"gramos\" )\n",
        "\n",
        "  def peso(self):\n",
        "    return"
      ],
      "metadata": {
        "id": "Pw8L-_YvNTww"
      },
      "execution_count": 24,
      "outputs": []
    },
    {
      "cell_type": "code",
      "source": [
        "galleta(any, any, any)"
      ],
      "metadata": {
        "colab": {
          "base_uri": "https://localhost:8080/"
        },
        "id": "az6EZYzcJ1PE",
        "outputId": "bcca44e1-1812-4320-dfc6-3d8d0f2cb446"
      },
      "execution_count": 25,
      "outputs": [
        {
          "output_type": "stream",
          "name": "stdout",
          "text": [
            "qué sabor es? chocolate\n",
            "¿cuál es el diámetro de la galleta? 5\n",
            "tiene chispas? si\n",
            "el peso de la galleta es:  14.499999999999998 gramos\n"
          ]
        },
        {
          "output_type": "execute_result",
          "data": {
            "text/plain": [
              "<__main__.galleta at 0x7b7e99ded7b0>"
            ]
          },
          "metadata": {},
          "execution_count": 25
        }
      ]
    },
    {
      "cell_type": "code",
      "source": [
        "galleta(any, any, any)"
      ],
      "metadata": {
        "colab": {
          "base_uri": "https://localhost:8080/"
        },
        "id": "8NP4n_yJJbn-",
        "outputId": "bea19194-7eea-43b8-e483-f8254d5db3e3"
      },
      "execution_count": 8,
      "outputs": [
        {
          "output_type": "stream",
          "name": "stdout",
          "text": [
            "qué sabor es? fresa\n",
            "tiene chispas? no\n",
            "el peso de la galleta es:  11\n"
          ]
        },
        {
          "output_type": "execute_result",
          "data": {
            "text/plain": [
              "<__main__.galleta at 0x7b7ea6b24970>"
            ]
          },
          "metadata": {},
          "execution_count": 8
        }
      ]
    },
    {
      "cell_type": "code",
      "source": [],
      "metadata": {
        "id": "e3SETb2JKATY"
      },
      "execution_count": null,
      "outputs": []
    }
  ]
}