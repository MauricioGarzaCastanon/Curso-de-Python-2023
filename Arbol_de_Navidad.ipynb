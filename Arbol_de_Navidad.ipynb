{
  "nbformat": 4,
  "nbformat_minor": 0,
  "metadata": {
    "colab": {
      "provenance": [],
      "authorship_tag": "ABX9TyMm/DSM9Q8kJk557U/uEmae",
      "include_colab_link": true
    },
    "kernelspec": {
      "name": "python3",
      "display_name": "Python 3"
    },
    "language_info": {
      "name": "python"
    }
  },
  "cells": [
    {
      "cell_type": "markdown",
      "metadata": {
        "id": "view-in-github",
        "colab_type": "text"
      },
      "source": [
        "<a href=\"https://colab.research.google.com/github/MauricioGarzaCastanon/Curso-de-Python-2023/blob/main/Arbol_de_Navidad.ipynb\" target=\"_parent\"><img src=\"https://colab.research.google.com/assets/colab-badge.svg\" alt=\"Open In Colab\"/></a>"
      ]
    },
    {
      "cell_type": "code",
      "execution_count": null,
      "metadata": {
        "id": "hRqV2p8gXDnf"
      },
      "outputs": [],
      "source": []
    },
    {
      "cell_type": "markdown",
      "source": [
        "Ejercicio B. Árbol de navidad en Python. Imprime un árbol de navidad formado con * haciendo uso del while y de la multiplicación de un entero por una cadena, cuyo resultado en Python es replicar la cadena."
      ],
      "metadata": {
        "id": "r5yhNPo8XEbt"
      }
    },
    {
      "cell_type": "code",
      "source": [
        "import time\n",
        "z = 7\n",
        "x = 0\n",
        "while z > 0:\n",
        "  print(' ' * (z-1) + '*' * (2*x+1) + ' ' *(z+1))\n",
        "  time.sleep(0.5)\n",
        "  x +=1\n",
        "  z -=1\n"
      ],
      "metadata": {
        "colab": {
          "base_uri": "https://localhost:8080/"
        },
        "id": "4eSdFc6zXFZb",
        "outputId": "542999dd-a5d2-42e7-80ef-4a1dc2be27e6"
      },
      "execution_count": 28,
      "outputs": [
        {
          "output_type": "stream",
          "name": "stdout",
          "text": [
            "      *        \n",
            "     ***       \n",
            "    *****      \n",
            "   *******     \n",
            "  *********    \n",
            " ***********   \n",
            "*************  \n"
          ]
        }
      ]
    },
    {
      "cell_type": "code",
      "source": [],
      "metadata": {
        "id": "ycWS5seSXsfQ"
      },
      "execution_count": null,
      "outputs": []
    }
  ]
}