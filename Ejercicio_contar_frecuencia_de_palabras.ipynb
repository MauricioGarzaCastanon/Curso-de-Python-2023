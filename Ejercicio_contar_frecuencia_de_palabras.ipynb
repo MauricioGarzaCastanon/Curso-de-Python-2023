{
  "nbformat": 4,
  "nbformat_minor": 0,
  "metadata": {
    "colab": {
      "provenance": [],
      "authorship_tag": "ABX9TyP7UGz/ZsSa7FEkZnHC1I1x",
      "include_colab_link": true
    },
    "kernelspec": {
      "name": "python3",
      "display_name": "Python 3"
    },
    "language_info": {
      "name": "python"
    }
  },
  "cells": [
    {
      "cell_type": "markdown",
      "metadata": {
        "id": "view-in-github",
        "colab_type": "text"
      },
      "source": [
        "<a href=\"https://colab.research.google.com/github/MauricioGarzaCastanon/Curso-de-Python-2023/blob/main/Ejercicio_contar_frecuencia_de_palabras.ipynb\" target=\"_parent\"><img src=\"https://colab.research.google.com/assets/colab-badge.svg\" alt=\"Open In Colab\"/></a>"
      ]
    },
    {
      "cell_type": "code",
      "execution_count": null,
      "metadata": {
        "id": "7Uqx7j0Js-g1"
      },
      "outputs": [],
      "source": []
    },
    {
      "cell_type": "markdown",
      "source": [],
      "metadata": {
        "id": "3-QEZ0hBtFNn"
      }
    },
    {
      "cell_type": "code",
      "source": [],
      "metadata": {
        "id": "et2lQ4PItR4I"
      },
      "execution_count": null,
      "outputs": []
    },
    {
      "cell_type": "code",
      "source": [
        "from collections import OrderedDict, Counter\n",
        "import re\n",
        "import time\n",
        "\n",
        "def contar_frecuencia_palabras(texto):\n",
        "    # Obtener todas las palabras del texto en minúsculas\n",
        "    palabras = texto.lower().split()\n",
        "    contador_palabras = Counter(palabras)\n",
        "\n",
        "    # Usar Counter para contar la frecuencia de las palabras\n",
        "\n",
        "\n",
        "    return contador_palabras\n",
        "\n",
        "def palabras_mas_comunes(contador_palabras, n=5):\n",
        "    # Usar OrderedDict para obtener las palabras más comunes en orden\n",
        "    palabras_comunes = OrderedDict(contador_palabras.most_common(n))\n",
        "\n",
        "    return palabras_comunes\n",
        "\n",
        "texto = \"\"\"\n",
        "Python es un lenguaje de programación interpretado de alto nivel.\n",
        "Es conocido por su legibilidad y claridad de código.\n",
        "Python es utilizado en una amplia variedad de aplicaciones,\n",
        "desde desarrollo web hasta análisis de datos y aprendizaje automático.\n",
        "\"\"\"\n",
        "\n",
        "contador = contar_frecuencia_palabras(texto)\n",
        "palabras_comunes = palabras_mas_comunes(contador)\n",
        "\n",
        "print(\"Las palabras más comunes son:\")\n",
        "for palabra, frecuencia in palabras_comunes.items():\n",
        "    print(f\"{palabra}: {frecuencia}\")\n",
        "    time.sleep(1)"
      ],
      "metadata": {
        "colab": {
          "base_uri": "https://localhost:8080/"
        },
        "id": "hnNGGXEB0WI4",
        "outputId": "a962d2f0-ecc2-4da5-896f-ef490bad45b1"
      },
      "execution_count": 5,
      "outputs": [
        {
          "output_type": "stream",
          "name": "stdout",
          "text": [
            "Las palabras más comunes son:\n",
            "de: 5\n",
            "es: 3\n",
            "python: 2\n",
            "y: 2\n",
            "un: 1\n"
          ]
        }
      ]
    },
    {
      "cell_type": "code",
      "source": [],
      "metadata": {
        "id": "YXmFHjP6t5x4"
      },
      "execution_count": null,
      "outputs": []
    }
  ]
}