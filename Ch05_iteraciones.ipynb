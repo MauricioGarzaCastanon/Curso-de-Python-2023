{
  "nbformat": 4,
  "nbformat_minor": 0,
  "metadata": {
    "colab": {
      "provenance": [],
      "authorship_tag": "ABX9TyOtzbdGgLQfoS97vq2Z1Yab",
      "include_colab_link": true
    },
    "kernelspec": {
      "name": "python3",
      "display_name": "Python 3"
    },
    "language_info": {
      "name": "python"
    }
  },
  "cells": [
    {
      "cell_type": "markdown",
      "metadata": {
        "id": "view-in-github",
        "colab_type": "text"
      },
      "source": [
        "<a href=\"https://colab.research.google.com/github/MauricioGarzaCastanon/Curso-de-Python-2023/blob/main/Ch05_iteraciones.ipynb\" target=\"_parent\"><img src=\"https://colab.research.google.com/assets/colab-badge.svg\" alt=\"Open In Colab\"/></a>"
      ]
    },
    {
      "cell_type": "code",
      "execution_count": null,
      "metadata": {
        "id": "oGkT4ZWGSRto"
      },
      "outputs": [],
      "source": []
    },
    {
      "cell_type": "markdown",
      "source": [],
      "metadata": {
        "id": "WVsxVPjzSWEx"
      }
    },
    {
      "cell_type": "code",
      "source": [
        "adj=[\"roja\", \"grande\", \"dulce\"]\n",
        "fruta=[\"manzana\", \"cereza\", \"platano\"]\n",
        "i=0\n",
        "j=0\n",
        "for i in adj:\n",
        "  for j in fruta:\n",
        "    print(i,j)\n"
      ],
      "metadata": {
        "colab": {
          "base_uri": "https://localhost:8080/"
        },
        "id": "Rt4EtKbKSq4y",
        "outputId": "ef056d0f-c72a-4f81-cf11-6a292466a39f"
      },
      "execution_count": 12,
      "outputs": [
        {
          "output_type": "stream",
          "name": "stdout",
          "text": [
            "roja manzana\n",
            "roja cereza\n",
            "roja platano\n",
            "grande manzana\n",
            "grande cereza\n",
            "grande platano\n",
            "dulce manzana\n",
            "dulce cereza\n",
            "dulce platano\n"
          ]
        }
      ]
    }
  ]
}