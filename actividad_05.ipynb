{
  "nbformat": 4,
  "nbformat_minor": 0,
  "metadata": {
    "colab": {
      "provenance": [],
      "authorship_tag": "ABX9TyNbzgV3cJsg4EfVVQBMgpFG",
      "include_colab_link": true
    },
    "kernelspec": {
      "name": "python3",
      "display_name": "Python 3"
    },
    "language_info": {
      "name": "python"
    }
  },
  "cells": [
    {
      "cell_type": "markdown",
      "metadata": {
        "id": "view-in-github",
        "colab_type": "text"
      },
      "source": [
        "<a href=\"https://colab.research.google.com/github/MauricioGarzaCastanon/Curso-de-Python-2023/blob/main/actividad_05.ipynb\" target=\"_parent\"><img src=\"https://colab.research.google.com/assets/colab-badge.svg\" alt=\"Open In Colab\"/></a>"
      ]
    },
    {
      "cell_type": "code",
      "source": [],
      "metadata": {
        "id": "PJwRL5gM0O3D"
      },
      "execution_count": null,
      "outputs": []
    },
    {
      "cell_type": "markdown",
      "source": [
        "Jueves 13 de Julio 2023"
      ],
      "metadata": {
        "id": "FG0LFrjq0TfP"
      }
    },
    {
      "cell_type": "markdown",
      "source": [],
      "metadata": {
        "id": "VyhRLnra0Snr"
      }
    },
    {
      "cell_type": "markdown",
      "source": [
        "Calcular impuestos que paga una persona"
      ],
      "metadata": {
        "id": "fbpS9RQ_0i0l"
      }
    },
    {
      "cell_type": "code",
      "source": [
        "ingreso_usuario=float(input(\"¿cuál es tu ingreso mensual\"))\n",
        "if ingreso_usuario>0 and ingreso_usuario<=1000:\n",
        "  tasa=0.05\n",
        "  impuesto=ingreso_usuario*tasa\n",
        "if ingreso_usuario>1000 and ingreso_usuario<=2000:\n",
        "    tasa=0.15\n",
        "    impuesto=ingreso_usuario*tasa\n",
        "if ingreso_usuario>2000 and ingreso_usuario<=3000:\n",
        "    tasa=0.2\n",
        "    impuesto=ingreso_usuario*tasa\n",
        "if ingreso_usuario>3000:\n",
        "    tasa=0.3\n",
        "    impuesto=ingreso_usuario*tasa\n",
        "print(\"tus impuestos a pagar son: $\",impuesto)\n"
      ],
      "metadata": {
        "colab": {
          "base_uri": "https://localhost:8080/"
        },
        "id": "af0FNsvJ0luP",
        "outputId": "1ecc8842-4d45-4a5d-e22f-f2a68a0ba215"
      },
      "execution_count": 13,
      "outputs": [
        {
          "output_type": "stream",
          "name": "stdout",
          "text": [
            "¿cuál es tu ingreso mensual500\n",
            "tus impuestos a pagar son: $ 25.0\n"
          ]
        }
      ]
    },
    {
      "cell_type": "code",
      "source": [],
      "metadata": {
        "id": "SUPyTLBH0yxV"
      },
      "execution_count": null,
      "outputs": []
    }
  ]
}