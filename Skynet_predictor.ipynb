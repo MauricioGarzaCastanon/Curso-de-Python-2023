{
  "cells": [
    {
      "cell_type": "markdown",
      "metadata": {
        "id": "view-in-github",
        "colab_type": "text"
      },
      "source": [
        "<a href=\"https://colab.research.google.com/github/MauricioGarzaCastanon/Curso-de-Python-2023/blob/main/Skynet_predictor.ipynb\" target=\"_parent\"><img src=\"https://colab.research.google.com/assets/colab-badge.svg\" alt=\"Open In Colab\"/></a>"
      ]
    },
    {
      "cell_type": "code",
      "execution_count": null,
      "metadata": {
        "hide_input": false,
        "id": "URdKjez1OD5K"
      },
      "outputs": [],
      "source": [
        "from preamble import *"
      ]
    },
    {
      "cell_type": "markdown",
      "metadata": {
        "id": "2xuYZOhnOD5Q"
      },
      "source": [
        "## mglearn:\n",
        "\n",
        "pip install mglearn\n",
        "\n",
        "import mglearn"
      ]
    },
    {
      "cell_type": "raw",
      "metadata": {
        "id": "gWJ5tZnmOD5T"
      },
      "source": [
        "### Versions Used in this Course"
      ]
    },
    {
      "cell_type": "code",
      "execution_count": 20,
      "metadata": {
        "colab": {
          "base_uri": "https://localhost:8080/"
        },
        "id": "-bLd6TBCOD5T",
        "outputId": "d191bfe6-196f-40e1-c256-11a371f7f79a"
      },
      "outputs": [
        {
          "output_type": "stream",
          "name": "stdout",
          "text": [
            "Python version: 3.10.6 (main, May 29 2023, 11:10:38) [GCC 11.3.0]\n",
            "pandas version: 1.5.3\n",
            "matplotlib version: 3.7.1\n",
            "NumPy version: 1.22.4\n",
            "SciPy version: 1.10.1\n",
            "IPython version: 7.34.0\n",
            "scikit-learn version: 1.2.2\n"
          ]
        }
      ],
      "source": [
        "import sys\n",
        "print(\"Python version:\", sys.version)\n",
        "\n",
        "import pandas as pd\n",
        "print(\"pandas version:\", pd.__version__)\n",
        "\n",
        "import matplotlib\n",
        "print(\"matplotlib version:\", matplotlib.__version__)\n",
        "\n",
        "import numpy as np\n",
        "print(\"NumPy version:\", np.__version__)\n",
        "\n",
        "import scipy as sp\n",
        "print(\"SciPy version:\", sp.__version__)\n",
        "\n",
        "import IPython\n",
        "print(\"IPython version:\", IPython.__version__)\n",
        "\n",
        "import sklearn\n",
        "print(\"scikit-learn version:\", sklearn.__version__)\n",
        "\n",
        "#import mglearn\n",
        "#print(\"mglearn version:\", mglearn.__version__)"
      ]
    },
    {
      "cell_type": "markdown",
      "metadata": {
        "id": "rW8hw_2cOD5V"
      },
      "source": [
        "## Creación de la tabla de datos"
      ]
    },
    {
      "cell_type": "code",
      "execution_count": 21,
      "metadata": {
        "scrolled": true,
        "colab": {
          "base_uri": "https://localhost:8080/"
        },
        "id": "LE1JRZ1TOD5W",
        "outputId": "023c528b-e55e-45de-8a18-5715e54035b1"
      },
      "outputs": [
        {
          "output_type": "stream",
          "name": "stdout",
          "text": [
            "    0   1   2     3  4\n",
            "0   4   7  15   2.5 -1\n",
            "1   4  18  12   2.5 -1\n",
            "2   4  14  10   2.0 -1\n",
            "3   4  13  10   2.0 -1\n",
            "4   4  10   8   2.5 -1\n",
            "5   5  10  58  18.0 -1\n",
            "6   4  10  15   2.5 -1\n",
            "7   4   2  13   2.5 -1\n",
            "8   4  30  41  45.0 -1\n",
            "9   4  17  12   2.5 -1\n",
            "10  4  22  32   2.5 -1\n",
            "11  4  23   8   2.5 -1\n",
            "12  4  27  13   2.5 -1\n",
            "13  4  30  32   2.5 -1\n",
            "14  4  20  23   2.5 -1\n",
            "15  5  33  14   1.5 -1\n",
            "16  4  22  12   2.5 -1\n",
            "17  5  21  49   2.5 -1\n",
            "18  7  18  32   2.5 -1\n",
            "19  7  23  13   2.5 -1\n",
            "20  7  20  13   2.5 -1\n",
            "21  4  12  34   2.5 -1\n",
            "22  4   9  16   2.5 -1\n",
            "23  7  14   9   2.5 -1\n",
            "24  4  24  17   2.5 -1\n",
            "25  7  15  13   2.5 -1\n",
            "26  5  10  49   2.5 -1\n",
            "27  5  11  32   2.5 -1\n",
            "28  5  10  30   2.5 -1\n",
            "29  4   8  42  45.0 -1\n",
            "30  4  15  18   2.5 -1\n",
            "31  4  15  18   2.5 -1\n",
            "32  4  10  18   2.5 -1\n",
            "33  4   8  18   2.5 -1\n",
            "34  4   3  16   2.5 -1\n",
            "35  5  10  39   2.5 -1\n",
            "36  5  10  39   2.5 -1\n",
            "37  4  12  12   2.5 -1\n",
            "38  4  15  22  39.5 -1\n",
            "39  4   8  15   2.5  1\n",
            "40  4   4  17   2.5  1\n",
            "41  4   0  39   2.5  1\n",
            "42  4   7  30   2.5  1\n",
            "43  4   7  17   2.5  1\n"
          ]
        }
      ],
      "source": [
        "import os\n",
        "import pandas as pd\n",
        "\n",
        "\n",
        "df = pd.read_csv('/content/dataset-2.csv', header=None, encoding='utf-8')\n",
        "df.head()\n",
        "\n",
        "Skynet_dataset = pd.read_csv('/content/dataset-2.csv', header=None, encoding='utf-8')\n",
        "print(Skynet_dataset)"
      ]
    },
    {
      "cell_type": "code",
      "execution_count": 22,
      "metadata": {
        "colab": {
          "base_uri": "https://localhost:8080/"
        },
        "id": "N3ufiv5NOD5X",
        "outputId": "b0c965f4-fa25-4846-94c4-43b89ed237dd"
      },
      "outputs": [
        {
          "output_type": "stream",
          "name": "stdout",
          "text": [
            "Keys of Skynet_dataset:\n",
            " Int64Index([0, 1, 2, 3, 4], dtype='int64')\n"
          ]
        }
      ],
      "source": [
        "print(\"Keys of Skynet_dataset:\\n\", Skynet_dataset.keys())"
      ]
    },
    {
      "cell_type": "markdown",
      "metadata": {
        "id": "9iT6hPaoOD5Y"
      },
      "source": [
        "## Datos de entrenamiento y prueba"
      ]
    },
    {
      "cell_type": "code",
      "execution_count": 23,
      "metadata": {
        "colab": {
          "base_uri": "https://localhost:8080/"
        },
        "id": "bX7nPPXTOD5Y",
        "outputId": "215a487a-323c-46c9-e5c7-254bd7e979a9"
      },
      "outputs": [
        {
          "output_type": "stream",
          "name": "stdout",
          "text": [
            "    0   1   2     3\n",
            "20  7  20  13   2.5\n",
            "41  4   0  39   2.5\n",
            "2   4  14  10   2.0\n",
            "43  4   7  17   2.5\n",
            "18  7  18  32   2.5\n",
            "15  5  33  14   1.5\n",
            "22  4   9  16   2.5\n",
            "16  4  22  12   2.5\n",
            "40  4   4  17   2.5\n",
            "8   4  30  41  45.0\n",
            "13  4  30  32   2.5\n",
            "5   5  10  58  18.0\n",
            "17  5  21  49   2.5\n",
            "32  4  10  18   2.5\n",
            "14  4  20  23   2.5\n",
            "35  5  10  39   2.5\n",
            "7   4   2  13   2.5\n",
            "34  4   3  16   2.5\n",
            "1   4  18  12   2.5\n",
            "26  5  10  49   2.5\n",
            "12  4  27  13   2.5\n",
            "33  4   8  18   2.5\n",
            "24  4  24  17   2.5\n",
            "6   4  10  15   2.5\n",
            "23  7  14   9   2.5\n",
            "36  5  10  39   2.5\n",
            "21  4  12  34   2.5\n",
            "19  7  23  13   2.5\n",
            "9   4  17  12   2.5\n",
            "39  4   8  15   2.5\n",
            "42  4   7  30   2.5\n",
            "3   4  13  10   2.0\n",
            "0   4   7  15   2.5\n",
            "20   -1\n",
            "41    1\n",
            "2    -1\n",
            "43    1\n",
            "18   -1\n",
            "15   -1\n",
            "22   -1\n",
            "16   -1\n",
            "40    1\n",
            "8    -1\n",
            "13   -1\n",
            "5    -1\n",
            "17   -1\n",
            "32   -1\n",
            "14   -1\n",
            "35   -1\n",
            "7    -1\n",
            "34   -1\n",
            "1    -1\n",
            "26   -1\n",
            "12   -1\n",
            "33   -1\n",
            "24   -1\n",
            "6    -1\n",
            "23   -1\n",
            "36   -1\n",
            "21   -1\n",
            "19   -1\n",
            "9    -1\n",
            "39    1\n",
            "42    1\n",
            "3    -1\n",
            "0    -1\n",
            "Name: 4, dtype: int64\n",
            "    0   1   2     3\n",
            "30  4  15  18   2.5\n",
            "37  4  12  12   2.5\n",
            "27  5  11  32   2.5\n",
            "4   4  10   8   2.5\n",
            "10  4  22  32   2.5\n",
            "25  7  15  13   2.5\n",
            "28  5  10  30   2.5\n",
            "11  4  23   8   2.5\n",
            "38  4  15  22  39.5\n",
            "31  4  15  18   2.5\n",
            "29  4   8  42  45.0\n",
            "30   -1\n",
            "37   -1\n",
            "27   -1\n",
            "4    -1\n",
            "10   -1\n",
            "25   -1\n",
            "28   -1\n",
            "11   -1\n",
            "38   -1\n",
            "31   -1\n",
            "29   -1\n",
            "Name: 4, dtype: int64\n"
          ]
        }
      ],
      "source": [
        "from sklearn.model_selection import train_test_split\n",
        "\n",
        "X  = Skynet_dataset.iloc [:44, [0, 1, 2, 3]]\n",
        "Y = Skynet_dataset.iloc [:44, 4]\n",
        "X_train, X_test, y_train, y_test = train_test_split(X, Y, random_state=0)\n",
        "\n",
        "print (X_train)\n",
        "print (y_train)\n",
        "print (X_test)\n",
        "print (y_test)"
      ]
    },
    {
      "cell_type": "code",
      "execution_count": 24,
      "metadata": {
        "colab": {
          "base_uri": "https://localhost:8080/"
        },
        "id": "CtO1fynZOD5Z",
        "outputId": "5ca984d7-ab89-48d5-fdc5-91a49fc23059"
      },
      "outputs": [
        {
          "output_type": "stream",
          "name": "stdout",
          "text": [
            "X_train shape: (33, 4)\n",
            "y_train shape: (33,)\n"
          ]
        }
      ],
      "source": [
        "print(\"X_train shape:\", X_train.shape)\n",
        "print(\"y_train shape:\", y_train.shape)"
      ]
    },
    {
      "cell_type": "code",
      "execution_count": 25,
      "metadata": {
        "colab": {
          "base_uri": "https://localhost:8080/"
        },
        "id": "SWrHHYn7OD5a",
        "outputId": "bf99df98-8ead-4e70-ff01-06bc2a7de132"
      },
      "outputs": [
        {
          "output_type": "stream",
          "name": "stdout",
          "text": [
            "X_test shape: (11, 4)\n",
            "y_test shape: (11,)\n"
          ]
        }
      ],
      "source": [
        "print(\"X_test shape:\", X_test.shape)\n",
        "print(\"y_test shape:\", y_test.shape)"
      ]
    },
    {
      "cell_type": "markdown",
      "metadata": {
        "id": "DycxYaYtOD5a"
      },
      "source": [
        "## Análisis exploratorio"
      ]
    },
    {
      "cell_type": "markdown",
      "metadata": {
        "id": "YEZzsZJiOD5b"
      },
      "source": [
        "## Construcción del priemr modelo: k-ésimos primeros vecinos"
      ]
    },
    {
      "cell_type": "code",
      "execution_count": 26,
      "metadata": {
        "id": "X146dEQAOD5b"
      },
      "outputs": [],
      "source": [
        "from sklearn.neighbors import KNeighborsClassifier\n",
        "knn = KNeighborsClassifier(n_neighbors=1)"
      ]
    },
    {
      "cell_type": "code",
      "execution_count": 27,
      "metadata": {
        "colab": {
          "base_uri": "https://localhost:8080/",
          "height": 74
        },
        "id": "dKUvS6U4OD5b",
        "outputId": "33a87b72-daac-4704-de9e-c1cfb85956a1"
      },
      "outputs": [
        {
          "output_type": "execute_result",
          "data": {
            "text/plain": [
              "KNeighborsClassifier(n_neighbors=1)"
            ],
            "text/html": [
              "<style>#sk-container-id-2 {color: black;background-color: white;}#sk-container-id-2 pre{padding: 0;}#sk-container-id-2 div.sk-toggleable {background-color: white;}#sk-container-id-2 label.sk-toggleable__label {cursor: pointer;display: block;width: 100%;margin-bottom: 0;padding: 0.3em;box-sizing: border-box;text-align: center;}#sk-container-id-2 label.sk-toggleable__label-arrow:before {content: \"▸\";float: left;margin-right: 0.25em;color: #696969;}#sk-container-id-2 label.sk-toggleable__label-arrow:hover:before {color: black;}#sk-container-id-2 div.sk-estimator:hover label.sk-toggleable__label-arrow:before {color: black;}#sk-container-id-2 div.sk-toggleable__content {max-height: 0;max-width: 0;overflow: hidden;text-align: left;background-color: #f0f8ff;}#sk-container-id-2 div.sk-toggleable__content pre {margin: 0.2em;color: black;border-radius: 0.25em;background-color: #f0f8ff;}#sk-container-id-2 input.sk-toggleable__control:checked~div.sk-toggleable__content {max-height: 200px;max-width: 100%;overflow: auto;}#sk-container-id-2 input.sk-toggleable__control:checked~label.sk-toggleable__label-arrow:before {content: \"▾\";}#sk-container-id-2 div.sk-estimator input.sk-toggleable__control:checked~label.sk-toggleable__label {background-color: #d4ebff;}#sk-container-id-2 div.sk-label input.sk-toggleable__control:checked~label.sk-toggleable__label {background-color: #d4ebff;}#sk-container-id-2 input.sk-hidden--visually {border: 0;clip: rect(1px 1px 1px 1px);clip: rect(1px, 1px, 1px, 1px);height: 1px;margin: -1px;overflow: hidden;padding: 0;position: absolute;width: 1px;}#sk-container-id-2 div.sk-estimator {font-family: monospace;background-color: #f0f8ff;border: 1px dotted black;border-radius: 0.25em;box-sizing: border-box;margin-bottom: 0.5em;}#sk-container-id-2 div.sk-estimator:hover {background-color: #d4ebff;}#sk-container-id-2 div.sk-parallel-item::after {content: \"\";width: 100%;border-bottom: 1px solid gray;flex-grow: 1;}#sk-container-id-2 div.sk-label:hover label.sk-toggleable__label {background-color: #d4ebff;}#sk-container-id-2 div.sk-serial::before {content: \"\";position: absolute;border-left: 1px solid gray;box-sizing: border-box;top: 0;bottom: 0;left: 50%;z-index: 0;}#sk-container-id-2 div.sk-serial {display: flex;flex-direction: column;align-items: center;background-color: white;padding-right: 0.2em;padding-left: 0.2em;position: relative;}#sk-container-id-2 div.sk-item {position: relative;z-index: 1;}#sk-container-id-2 div.sk-parallel {display: flex;align-items: stretch;justify-content: center;background-color: white;position: relative;}#sk-container-id-2 div.sk-item::before, #sk-container-id-2 div.sk-parallel-item::before {content: \"\";position: absolute;border-left: 1px solid gray;box-sizing: border-box;top: 0;bottom: 0;left: 50%;z-index: -1;}#sk-container-id-2 div.sk-parallel-item {display: flex;flex-direction: column;z-index: 1;position: relative;background-color: white;}#sk-container-id-2 div.sk-parallel-item:first-child::after {align-self: flex-end;width: 50%;}#sk-container-id-2 div.sk-parallel-item:last-child::after {align-self: flex-start;width: 50%;}#sk-container-id-2 div.sk-parallel-item:only-child::after {width: 0;}#sk-container-id-2 div.sk-dashed-wrapped {border: 1px dashed gray;margin: 0 0.4em 0.5em 0.4em;box-sizing: border-box;padding-bottom: 0.4em;background-color: white;}#sk-container-id-2 div.sk-label label {font-family: monospace;font-weight: bold;display: inline-block;line-height: 1.2em;}#sk-container-id-2 div.sk-label-container {text-align: center;}#sk-container-id-2 div.sk-container {/* jupyter's `normalize.less` sets `[hidden] { display: none; }` but bootstrap.min.css set `[hidden] { display: none !important; }` so we also need the `!important` here to be able to override the default hidden behavior on the sphinx rendered scikit-learn.org. See: https://github.com/scikit-learn/scikit-learn/issues/21755 */display: inline-block !important;position: relative;}#sk-container-id-2 div.sk-text-repr-fallback {display: none;}</style><div id=\"sk-container-id-2\" class=\"sk-top-container\"><div class=\"sk-text-repr-fallback\"><pre>KNeighborsClassifier(n_neighbors=1)</pre><b>In a Jupyter environment, please rerun this cell to show the HTML representation or trust the notebook. <br />On GitHub, the HTML representation is unable to render, please try loading this page with nbviewer.org.</b></div><div class=\"sk-container\" hidden><div class=\"sk-item\"><div class=\"sk-estimator sk-toggleable\"><input class=\"sk-toggleable__control sk-hidden--visually\" id=\"sk-estimator-id-2\" type=\"checkbox\" checked><label for=\"sk-estimator-id-2\" class=\"sk-toggleable__label sk-toggleable__label-arrow\">KNeighborsClassifier</label><div class=\"sk-toggleable__content\"><pre>KNeighborsClassifier(n_neighbors=1)</pre></div></div></div></div></div>"
            ]
          },
          "metadata": {},
          "execution_count": 27
        }
      ],
      "source": [
        "knn.fit (X_train, y_train)"
      ]
    },
    {
      "cell_type": "markdown",
      "metadata": {
        "id": "rUUQGwR_OD5c"
      },
      "source": [
        "## Haciendo predicciones"
      ]
    },
    {
      "cell_type": "code",
      "execution_count": 28,
      "metadata": {
        "colab": {
          "base_uri": "https://localhost:8080/"
        },
        "id": "3aU8dq8eOD5c",
        "outputId": "d4c176fc-4645-41be-a5ad-f8d671b4446d"
      },
      "outputs": [
        {
          "output_type": "stream",
          "name": "stdout",
          "text": [
            "X_new.shape: (1, 4)\n"
          ]
        }
      ],
      "source": [
        "X_new = np.array([[4, 10, 8, 2.5]])\n",
        "print(\"X_new.shape:\", X_new.shape)"
      ]
    },
    {
      "cell_type": "code",
      "execution_count": 29,
      "metadata": {
        "colab": {
          "base_uri": "https://localhost:8080/"
        },
        "id": "hsxh5oN1OD5c",
        "outputId": "12d3d831-8c33-44e0-b6af-31f3bd397cd3"
      },
      "outputs": [
        {
          "output_type": "stream",
          "name": "stdout",
          "text": [
            "Prediction: [-1]\n"
          ]
        }
      ],
      "source": [
        "prediction = knn.predict(X_new)\n",
        "print(\"Prediction:\", prediction)"
      ]
    },
    {
      "cell_type": "markdown",
      "metadata": {
        "id": "fVcYLWzjOD5c"
      },
      "source": [
        "## Evaluación del modelo"
      ]
    },
    {
      "cell_type": "code",
      "execution_count": 30,
      "metadata": {
        "colab": {
          "base_uri": "https://localhost:8080/"
        },
        "id": "KHioXMPPOD5d",
        "outputId": "c17b3123-5050-4f4c-d116-706855c07bf3"
      },
      "outputs": [
        {
          "output_type": "stream",
          "name": "stdout",
          "text": [
            "Test set predictions:\n",
            " [-1 -1 -1 -1 -1 -1  1 -1 -1 -1 -1]\n"
          ]
        }
      ],
      "source": [
        "y_pred = knn.predict(X_test)\n",
        "print(\"Test set predictions:\\n\", y_pred)"
      ]
    },
    {
      "cell_type": "code",
      "execution_count": 31,
      "metadata": {
        "colab": {
          "base_uri": "https://localhost:8080/"
        },
        "id": "qSFHV6V7OD5d",
        "outputId": "5b8118d4-e470-4d52-ed69-cac82b8a7f6d"
      },
      "outputs": [
        {
          "output_type": "stream",
          "name": "stdout",
          "text": [
            "Test set score: 0.91\n"
          ]
        }
      ],
      "source": [
        "print(\"Test set score: {:.2f}\".format(np.mean(y_pred == y_test)))"
      ]
    },
    {
      "cell_type": "code",
      "execution_count": 32,
      "metadata": {
        "colab": {
          "base_uri": "https://localhost:8080/"
        },
        "id": "J2xgt0pmOD5d",
        "outputId": "d8d091e1-d93d-4d1f-fe8c-2c8b085eb81d"
      },
      "outputs": [
        {
          "output_type": "stream",
          "name": "stdout",
          "text": [
            "Test set score: 0.91\n"
          ]
        }
      ],
      "source": [
        "print(\"Test set score: {:.2f}\".format(knn.score(X_test, y_test)))"
      ]
    },
    {
      "cell_type": "markdown",
      "metadata": {
        "id": "jTbq2o-SOD5d"
      },
      "source": [
        "##  Resumen y pronóstico"
      ]
    },
    {
      "cell_type": "code",
      "execution_count": 33,
      "metadata": {
        "colab": {
          "base_uri": "https://localhost:8080/"
        },
        "id": "tz16G8gxOD5e",
        "outputId": "212f0a3b-9cd4-4c98-fc3f-9be985e5641e"
      },
      "outputs": [
        {
          "output_type": "stream",
          "name": "stdout",
          "text": [
            "Test set score: 0.91\n"
          ]
        }
      ],
      "source": [
        "X  = Skynet_dataset.iloc [:44, [0, 1, 2, 3]]\n",
        "Y = Skynet_dataset.iloc [:44, 4]\n",
        "X_train, X_test, y_train, y_test = train_test_split(X, Y, random_state=0)\n",
        "knn = KNeighborsClassifier(n_neighbors=1)\n",
        "knn.fit(X_train, y_train)\n",
        "\n",
        "print(\"Test set score: {:.2f}\".format(knn.score(X_test, y_test)))"
      ]
    },
    {
      "cell_type": "markdown",
      "metadata": {
        "id": "gUkvJRgtOD5e"
      },
      "source": [
        "REFERENCES:"
      ]
    },
    {
      "cell_type": "markdown",
      "metadata": {
        "id": "QcdxVRDNOD5e"
      },
      "source": [
        "\n",
        "[1] Introduction to Machine Learning with Python; Andreas C. Muller\n",
        "\n",
        "[2] http://scipy-lectures.org/\n"
      ]
    }
  ],
  "metadata": {
    "anaconda-cloud": {},
    "kernelspec": {
      "display_name": "Python 3",
      "language": "python",
      "name": "python3"
    },
    "language_info": {
      "codemirror_mode": {
        "name": "ipython",
        "version": 3
      },
      "file_extension": ".py",
      "mimetype": "text/x-python",
      "name": "python",
      "nbconvert_exporter": "python",
      "pygments_lexer": "ipython3",
      "version": "3.8.8"
    },
    "colab": {
      "provenance": [],
      "include_colab_link": true
    }
  },
  "nbformat": 4,
  "nbformat_minor": 0
}