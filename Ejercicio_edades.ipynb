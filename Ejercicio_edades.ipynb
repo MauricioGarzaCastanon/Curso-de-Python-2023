{
  "nbformat": 4,
  "nbformat_minor": 0,
  "metadata": {
    "colab": {
      "provenance": [],
      "authorship_tag": "ABX9TyNlTDafKDAdvs3BbyjtRN0K",
      "include_colab_link": true
    },
    "kernelspec": {
      "name": "python3",
      "display_name": "Python 3"
    },
    "language_info": {
      "name": "python"
    }
  },
  "cells": [
    {
      "cell_type": "markdown",
      "metadata": {
        "id": "view-in-github",
        "colab_type": "text"
      },
      "source": [
        "<a href=\"https://colab.research.google.com/github/MauricioGarzaCastanon/Curso-de-Python-2023/blob/main/Ejercicio_edades.ipynb\" target=\"_parent\"><img src=\"https://colab.research.google.com/assets/colab-badge.svg\" alt=\"Open In Colab\"/></a>"
      ]
    },
    {
      "cell_type": "code",
      "execution_count": null,
      "metadata": {
        "id": "4142MwQTFM9q"
      },
      "outputs": [],
      "source": []
    },
    {
      "cell_type": "markdown",
      "source": [
        "Ejercicio A.Escribir un programa que pregunte al usuario su edad y muestre por pantalla todos los años que ha cumplido (desde 1 hasta su edad)."
      ],
      "metadata": {
        "id": "oJFPEbh0FSmr"
      }
    },
    {
      "cell_type": "code",
      "source": [
        "import time\n",
        "edad=int(input(\"¿cuántos años tienes?\"))\n",
        "if edad<1:\n",
        "  print(\"¿acabas de nacer?\")\n",
        "i=1\n",
        "while i < edad+1:\n",
        "  print(\"has cumplido\", i, \"años\")\n",
        "  time.sleep(1)\n",
        "  i += 1\n",
        ""
      ],
      "metadata": {
        "colab": {
          "base_uri": "https://localhost:8080/"
        },
        "id": "Z6l5QH7qFXHY",
        "outputId": "3c78b19f-d8d4-4968-de88-cc297c550aa1"
      },
      "execution_count": 21,
      "outputs": [
        {
          "output_type": "stream",
          "name": "stdout",
          "text": [
            "¿cuántos años tienes?5\n",
            "has cumplido 1 años\n",
            "has cumplido 2 años\n",
            "has cumplido 3 años\n",
            "has cumplido 4 años\n",
            "has cumplido 5 años\n"
          ]
        }
      ]
    },
    {
      "cell_type": "code",
      "source": [],
      "metadata": {
        "id": "8buCf_grGHfc"
      },
      "execution_count": null,
      "outputs": []
    }
  ]
}