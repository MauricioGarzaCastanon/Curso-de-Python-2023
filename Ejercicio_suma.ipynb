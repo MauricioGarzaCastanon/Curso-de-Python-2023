{
  "nbformat": 4,
  "nbformat_minor": 0,
  "metadata": {
    "colab": {
      "provenance": [],
      "authorship_tag": "ABX9TyOkQchT9QzVLu0uzFaHD8gj",
      "include_colab_link": true
    },
    "kernelspec": {
      "name": "python3",
      "display_name": "Python 3"
    },
    "language_info": {
      "name": "python"
    }
  },
  "cells": [
    {
      "cell_type": "markdown",
      "metadata": {
        "id": "view-in-github",
        "colab_type": "text"
      },
      "source": [
        "<a href=\"https://colab.research.google.com/github/MauricioGarzaCastanon/Curso-de-Python-2023/blob/main/Ejercicio_suma.ipynb\" target=\"_parent\"><img src=\"https://colab.research.google.com/assets/colab-badge.svg\" alt=\"Open In Colab\"/></a>"
      ]
    },
    {
      "cell_type": "markdown",
      "source": [
        "Ejercicio A2. Realiza un programa que solicita al usuario ingresar números hasta que ingrese 0, luego muestra la suma de los números ingresados."
      ],
      "metadata": {
        "id": "BvYZHSAgLsz5"
      }
    },
    {
      "cell_type": "code",
      "execution_count": 34,
      "metadata": {
        "colab": {
          "base_uri": "https://localhost:8080/"
        },
        "id": "1UqX-LrDLadI",
        "outputId": "078dd9bb-e8a3-423d-c4e6-6b7600dedb1e"
      },
      "outputs": [
        {
          "output_type": "stream",
          "name": "stdout",
          "text": [
            "ingresa un número 9\n",
            "la suma es 9\n",
            "ingresa un número 7\n",
            "la suma es 16\n",
            "ingresa un número 5\n",
            "la suma es 21\n",
            "ingresa un número 6\n",
            "la suma es 27\n",
            "ingresa un número 6\n",
            "la suma es 33\n",
            "ingresa un número 4\n",
            "la suma es 37\n",
            "ingresa un número 4\n",
            "la suma es 41\n",
            "ingresa un número -1\n",
            "la suma es 40\n",
            "ingresa un número -3\n",
            "la suma es 37\n",
            "ingresa un número -36\n",
            "la suma es 1\n",
            "ingresa un número -1\n",
            "la suma es 0\n",
            "ingresa un número -2\n",
            "la suma es -2\n",
            "ingresa un número -4\n",
            "la suma es -6\n",
            "ingresa un número -6\n",
            "la suma es -12\n",
            "ingresa un número 0\n",
            "la suma es -12\n",
            "bye!\n"
          ]
        }
      ],
      "source": [
        "numero=None\n",
        "suma=0\n",
        "while numero != 0:\n",
        "  numero=int(input(\"ingresa un número \"))\n",
        "  suma_actual=suma+numero\n",
        "  print(\"la suma es\", suma_actual)\n",
        "  suma=suma_actual\n",
        "  continue\n",
        "print(\"bye!\")"
      ]
    },
    {
      "cell_type": "code",
      "source": [],
      "metadata": {
        "id": "PntJOfHQUA8F"
      },
      "execution_count": null,
      "outputs": []
    }
  ]
}