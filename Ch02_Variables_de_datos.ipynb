{
  "nbformat": 4,
  "nbformat_minor": 0,
  "metadata": {
    "colab": {
      "provenance": [],
      "authorship_tag": "ABX9TyNAH6IE3vjkoFXw29EyEZDy",
      "include_colab_link": true
    },
    "kernelspec": {
      "name": "python3",
      "display_name": "Python 3"
    },
    "language_info": {
      "name": "python"
    }
  },
  "cells": [
    {
      "cell_type": "markdown",
      "metadata": {
        "id": "view-in-github",
        "colab_type": "text"
      },
      "source": [
        "<a href=\"https://colab.research.google.com/github/MauricioGarzaCastanon/Curso-de-Python-2023/blob/main/Ch02_Variables_de_datos.ipynb\" target=\"_parent\"><img src=\"https://colab.research.google.com/assets/colab-badge.svg\" alt=\"Open In Colab\"/></a>"
      ]
    },
    {
      "cell_type": "markdown",
      "source": [
        "Actividad 11 de Julio de 2023"
      ],
      "metadata": {
        "id": "HGsfm8IsotW3"
      }
    },
    {
      "cell_type": "markdown",
      "source": [
        "2.1 Tipos de datos"
      ],
      "metadata": {
        "id": "kHBq3g3DoydS"
      }
    },
    {
      "cell_type": "code",
      "source": [
        "type (100) # Tipo de dato que es el número 100"
      ],
      "metadata": {
        "colab": {
          "base_uri": "https://localhost:8080/"
        },
        "id": "xcbggn7Vo03k",
        "outputId": "3e3237c7-f77f-44d4-d414-a885b334f7cb"
      },
      "execution_count": 11,
      "outputs": [
        {
          "output_type": "execute_result",
          "data": {
            "text/plain": [
              "int"
            ]
          },
          "metadata": {},
          "execution_count": 11
        }
      ]
    },
    {
      "cell_type": "code",
      "source": [
        "type (23.3) # tipo de dato que es el número 23.3"
      ],
      "metadata": {
        "colab": {
          "base_uri": "https://localhost:8080/"
        },
        "id": "nHNSInplpCTy",
        "outputId": "1a6eb0c9-6195-4869-884d-99a5fc472769"
      },
      "execution_count": 12,
      "outputs": [
        {
          "output_type": "execute_result",
          "data": {
            "text/plain": [
              "float"
            ]
          },
          "metadata": {},
          "execution_count": 12
        }
      ]
    },
    {
      "cell_type": "code",
      "source": [
        "type(\"A\") #tipo de dato que es la letra A"
      ],
      "metadata": {
        "colab": {
          "base_uri": "https://localhost:8080/"
        },
        "id": "heSIIWwTpGXK",
        "outputId": "b4e17d1b-9cf5-4940-cf91-28435c373a39"
      },
      "execution_count": 13,
      "outputs": [
        {
          "output_type": "execute_result",
          "data": {
            "text/plain": [
              "str"
            ]
          },
          "metadata": {},
          "execution_count": 13
        }
      ]
    },
    {
      "cell_type": "code",
      "source": [
        "type(\"doble\") # tipo de dato que es la palabra doble"
      ],
      "metadata": {
        "colab": {
          "base_uri": "https://localhost:8080/"
        },
        "id": "6_mVAeCXpIeH",
        "outputId": "27e87f3c-fa83-4c1f-a5a1-84160a97bc61"
      },
      "execution_count": 14,
      "outputs": [
        {
          "output_type": "execute_result",
          "data": {
            "text/plain": [
              "str"
            ]
          },
          "metadata": {},
          "execution_count": 14
        }
      ]
    },
    {
      "cell_type": "code",
      "source": [
        "a=\"hello\""
      ],
      "metadata": {
        "id": "-P2vtAvfpOCQ"
      },
      "execution_count": 7,
      "outputs": []
    },
    {
      "cell_type": "code",
      "source": [
        "print(a)"
      ],
      "metadata": {
        "colab": {
          "base_uri": "https://localhost:8080/"
        },
        "id": "OkMQ75g2pVcW",
        "outputId": "66972049-41e3-41fe-9211-e699257a77a8"
      },
      "execution_count": 8,
      "outputs": [
        {
          "output_type": "stream",
          "name": "stdout",
          "text": [
            "hello\n"
          ]
        }
      ]
    },
    {
      "cell_type": "markdown",
      "source": [
        "2.2  Conversión de tipos"
      ],
      "metadata": {
        "id": "jpKxjbUUper1"
      }
    },
    {
      "cell_type": "code",
      "source": [
        "data=\"hello\" # no se puede convertir una cadena en flotante o en entero"
      ],
      "metadata": {
        "id": "WMWGLU5cphKM"
      },
      "execution_count": 10,
      "outputs": []
    },
    {
      "cell_type": "code",
      "source": [],
      "metadata": {
        "id": "Ps3J5U5HpymS"
      },
      "execution_count": null,
      "outputs": []
    },
    {
      "cell_type": "markdown",
      "source": [
        "Ejercicio 2 Cálculo del área y perímetro de un círculo"
      ],
      "metadata": {
        "id": "H3LQJ0qC3Pnh"
      }
    },
    {
      "cell_type": "code",
      "source": [
        " r = float(input(\"ingresa el radio del círculo=>\"))\n",
        "\n",
        " pi=3.141592\n",
        "\n",
        " area= pi*r**2\n",
        "\n",
        " perimetro= 2*pi*r\n",
        "\n",
        " print (\"perímetro=\", perimetro)\n",
        "\n",
        " print(\"área=\", area)\n"
      ],
      "metadata": {
        "colab": {
          "base_uri": "https://localhost:8080/"
        },
        "id": "o1woTa6T3Y2c",
        "outputId": "f87f276d-4975-477a-d70f-07553e8ead0c"
      },
      "execution_count": 33,
      "outputs": [
        {
          "output_type": "stream",
          "name": "stdout",
          "text": [
            "ingresa el radio del círculo=>3.00\n",
            "perímetro= 18.849552000000003\n",
            "área= 28.274328\n"
          ]
        }
      ]
    },
    {
      "cell_type": "markdown",
      "source": [],
      "metadata": {
        "id": "m-JVxvUd3Nf9"
      }
    }
  ]
}