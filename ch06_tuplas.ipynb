{
  "nbformat": 4,
  "nbformat_minor": 0,
  "metadata": {
    "colab": {
      "provenance": [],
      "authorship_tag": "ABX9TyN2tNQS2knSX3N1oVi7IR3h",
      "include_colab_link": true
    },
    "kernelspec": {
      "name": "python3",
      "display_name": "Python 3"
    },
    "language_info": {
      "name": "python"
    }
  },
  "cells": [
    {
      "cell_type": "markdown",
      "metadata": {
        "id": "view-in-github",
        "colab_type": "text"
      },
      "source": [
        "<a href=\"https://colab.research.google.com/github/MauricioGarzaCastanon/Curso-de-Python-2023/blob/main/ch06_tuplas.ipynb\" target=\"_parent\"><img src=\"https://colab.research.google.com/assets/colab-badge.svg\" alt=\"Open In Colab\"/></a>"
      ]
    },
    {
      "cell_type": "code",
      "execution_count": null,
      "metadata": {
        "id": "C07722ZZ1Ve_"
      },
      "outputs": [],
      "source": []
    },
    {
      "cell_type": "markdown",
      "source": [
        " Cálculo de área y perímetro de un círculo, regresando un valor adicional como color"
      ],
      "metadata": {
        "id": "PwyhJVoO1XUB"
      }
    },
    {
      "cell_type": "code",
      "source": [
        "color=\"green\""
      ],
      "metadata": {
        "id": "nqU3NcZK_znF"
      },
      "execution_count": 29,
      "outputs": []
    },
    {
      "cell_type": "code",
      "source": [
        "def propiedades_circulo(radio, color) :\n",
        "  pi=3.141592\n",
        "  radio=float(input(\"ingrese el valor del radio\"))\n",
        "  area=pi*radio**2\n",
        "  perimetro=2*pi*radio\n",
        "  propiedades =(area, perimetro, color)\n",
        "  return(propiedades)\n",
        "  print(propiedades)"
      ],
      "metadata": {
        "id": "7MN98_Ka24FR"
      },
      "execution_count": 42,
      "outputs": []
    },
    {
      "cell_type": "code",
      "source": [
        "propiedades_circulo(any,color)"
      ],
      "metadata": {
        "colab": {
          "base_uri": "https://localhost:8080/"
        },
        "id": "tRSDTR4GBMLz",
        "outputId": "aa88987f-da2a-477e-d18e-5c9003f4b11d"
      },
      "execution_count": 43,
      "outputs": [
        {
          "name": "stdout",
          "output_type": "stream",
          "text": [
            "ingrese el valor del radio5\n"
          ]
        },
        {
          "output_type": "execute_result",
          "data": {
            "text/plain": [
              "(78.5398, 31.41592, 'green')"
            ]
          },
          "metadata": {},
          "execution_count": 43
        }
      ]
    },
    {
      "cell_type": "code",
      "source": [],
      "metadata": {
        "id": "nOmxwSW3D2Cj"
      },
      "execution_count": null,
      "outputs": []
    }
  ]
}